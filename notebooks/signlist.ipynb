{
 "cells": [
  {
   "cell_type": "code",
   "execution_count": 53,
   "metadata": {},
   "outputs": [],
   "source": [
    "from xml.etree import ElementTree\n",
    "import json"
   ]
  },
  {
   "cell_type": "code",
   "execution_count": 19,
   "metadata": {},
   "outputs": [
    {
     "name": "stdout",
     "output_type": "stream",
     "text": [
      "{http://namespaces.softwareag.com/tamino/response2}response {}\n"
     ]
    }
   ],
   "source": [
    "tree = ElementTree.parse(\"/local/ecw/deepscribe/signlist.xml\")\n",
    "root = tree.getroot()\n",
    "print(root.tag, root.attrib)"
   ]
  },
  {
   "cell_type": "code",
   "execution_count": 35,
   "metadata": {},
   "outputs": [],
   "source": [
    "# I still don't quite understand XML namespaces.\n",
    "ochre_node = root[2][0]\n",
    "\n",
    "dset = ochre_node.find(\"set\")\n",
    "\n",
    "items = dset.find(\"items\")"
   ]
  },
  {
   "cell_type": "code",
   "execution_count": 50,
   "metadata": {},
   "outputs": [],
   "source": [
    "# creating dictionary mapping readings to signs\n",
    "reading_to_sign = {}\n",
    "for unit in items.findall(\"scriptUnit\"):\n",
    "    sign_name = unit.find(\"identification\").find(\"label\").text.strip()\n",
    "    readings = unit.find(\"readings\")\n",
    "    if readings is not None:\n",
    "        for reading in readings.findall(\"reading\"):\n",
    "            reading_to_sign[reading.find(\"identification\").find(\"label\").text.strip()] = sign_name"
   ]
  },
  {
   "cell_type": "code",
   "execution_count": 54,
   "metadata": {},
   "outputs": [],
   "source": [
    "with open(\"readings_to_signs.json\", \"w\") as outfile:\n",
    "    json.dump(reading_to_sign, outfile)"
   ]
  },
  {
   "cell_type": "code",
   "execution_count": null,
   "metadata": {},
   "outputs": [],
   "source": []
  }
 ],
 "metadata": {
  "kernelspec": {
   "display_name": "Python [conda env:deepscribe] *",
   "language": "python",
   "name": "conda-env-deepscribe-py"
  },
  "language_info": {
   "codemirror_mode": {
    "name": "ipython",
    "version": 3
   },
   "file_extension": ".py",
   "mimetype": "text/x-python",
   "name": "python",
   "nbconvert_exporter": "python",
   "pygments_lexer": "ipython3",
   "version": "3.7.7"
  }
 },
 "nbformat": 4,
 "nbformat_minor": 4
}
